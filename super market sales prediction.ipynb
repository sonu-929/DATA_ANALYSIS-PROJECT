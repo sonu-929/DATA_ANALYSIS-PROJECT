{
 "cells": [
  {
   "cell_type": "code",
   "execution_count": 1,
   "metadata": {},
   "outputs": [
    {
     "data": {
      "text/html": [
       "<div>\n",
       "<style scoped>\n",
       "    .dataframe tbody tr th:only-of-type {\n",
       "        vertical-align: middle;\n",
       "    }\n",
       "\n",
       "    .dataframe tbody tr th {\n",
       "        vertical-align: top;\n",
       "    }\n",
       "\n",
       "    .dataframe thead th {\n",
       "        text-align: right;\n",
       "    }\n",
       "</style>\n",
       "<table border=\"1\" class=\"dataframe\">\n",
       "  <thead>\n",
       "    <tr style=\"text-align: right;\">\n",
       "      <th></th>\n",
       "      <th>Branch</th>\n",
       "      <th>City</th>\n",
       "      <th>Customer type</th>\n",
       "      <th>Gender</th>\n",
       "      <th>Product line</th>\n",
       "      <th>Unit price</th>\n",
       "      <th>Quantity</th>\n",
       "      <th>Tax 5%</th>\n",
       "      <th>Sales</th>\n",
       "      <th>Date</th>\n",
       "      <th>Payment</th>\n",
       "      <th>cogs</th>\n",
       "      <th>gross margin percentage</th>\n",
       "      <th>gross income</th>\n",
       "      <th>Rating</th>\n",
       "      <th>Total_sells_price</th>\n",
       "    </tr>\n",
       "  </thead>\n",
       "  <tbody>\n",
       "    <tr>\n",
       "      <th>0</th>\n",
       "      <td>Alex</td>\n",
       "      <td>Yangon</td>\n",
       "      <td>Member</td>\n",
       "      <td>Female</td>\n",
       "      <td>Health and beauty</td>\n",
       "      <td>74.69</td>\n",
       "      <td>7</td>\n",
       "      <td>26.1415</td>\n",
       "      <td>548.9715</td>\n",
       "      <td>1/5/2019</td>\n",
       "      <td>Ewallet</td>\n",
       "      <td>522.83</td>\n",
       "      <td>4.761905</td>\n",
       "      <td>26.1415</td>\n",
       "      <td>9.1</td>\n",
       "      <td>575.113</td>\n",
       "    </tr>\n",
       "    <tr>\n",
       "      <th>1</th>\n",
       "      <td>Giza</td>\n",
       "      <td>Naypyitaw</td>\n",
       "      <td>Normal</td>\n",
       "      <td>Female</td>\n",
       "      <td>Electronic accessories</td>\n",
       "      <td>15.28</td>\n",
       "      <td>5</td>\n",
       "      <td>3.8200</td>\n",
       "      <td>80.2200</td>\n",
       "      <td>3/8/2019</td>\n",
       "      <td>Cash</td>\n",
       "      <td>76.40</td>\n",
       "      <td>4.761905</td>\n",
       "      <td>3.8200</td>\n",
       "      <td>9.6</td>\n",
       "      <td>84.040</td>\n",
       "    </tr>\n",
       "    <tr>\n",
       "      <th>2</th>\n",
       "      <td>Alex</td>\n",
       "      <td>Yangon</td>\n",
       "      <td>Normal</td>\n",
       "      <td>Female</td>\n",
       "      <td>Home and lifestyle</td>\n",
       "      <td>46.33</td>\n",
       "      <td>7</td>\n",
       "      <td>16.2155</td>\n",
       "      <td>340.5255</td>\n",
       "      <td>3/3/2019</td>\n",
       "      <td>Credit card</td>\n",
       "      <td>324.31</td>\n",
       "      <td>4.761905</td>\n",
       "      <td>16.2155</td>\n",
       "      <td>7.4</td>\n",
       "      <td>356.741</td>\n",
       "    </tr>\n",
       "    <tr>\n",
       "      <th>3</th>\n",
       "      <td>Alex</td>\n",
       "      <td>Yangon</td>\n",
       "      <td>Member</td>\n",
       "      <td>Female</td>\n",
       "      <td>Health and beauty</td>\n",
       "      <td>58.22</td>\n",
       "      <td>8</td>\n",
       "      <td>23.2880</td>\n",
       "      <td>489.0480</td>\n",
       "      <td>1/27/2019</td>\n",
       "      <td>Ewallet</td>\n",
       "      <td>465.76</td>\n",
       "      <td>4.761905</td>\n",
       "      <td>23.2880</td>\n",
       "      <td>8.4</td>\n",
       "      <td>512.336</td>\n",
       "    </tr>\n",
       "    <tr>\n",
       "      <th>4</th>\n",
       "      <td>Alex</td>\n",
       "      <td>Yangon</td>\n",
       "      <td>Member</td>\n",
       "      <td>Female</td>\n",
       "      <td>Sports and travel</td>\n",
       "      <td>86.31</td>\n",
       "      <td>7</td>\n",
       "      <td>30.2085</td>\n",
       "      <td>634.3785</td>\n",
       "      <td>2/8/2019</td>\n",
       "      <td>Ewallet</td>\n",
       "      <td>604.17</td>\n",
       "      <td>4.761905</td>\n",
       "      <td>30.2085</td>\n",
       "      <td>5.3</td>\n",
       "      <td>664.587</td>\n",
       "    </tr>\n",
       "    <tr>\n",
       "      <th>5</th>\n",
       "      <td>Giza</td>\n",
       "      <td>Naypyitaw</td>\n",
       "      <td>Member</td>\n",
       "      <td>Female</td>\n",
       "      <td>Electronic accessories</td>\n",
       "      <td>85.39</td>\n",
       "      <td>7</td>\n",
       "      <td>29.8865</td>\n",
       "      <td>627.6165</td>\n",
       "      <td>3/25/2019</td>\n",
       "      <td>Ewallet</td>\n",
       "      <td>597.73</td>\n",
       "      <td>4.761905</td>\n",
       "      <td>29.8865</td>\n",
       "      <td>4.1</td>\n",
       "      <td>657.503</td>\n",
       "    </tr>\n",
       "    <tr>\n",
       "      <th>6</th>\n",
       "      <td>Alex</td>\n",
       "      <td>Yangon</td>\n",
       "      <td>Member</td>\n",
       "      <td>Female</td>\n",
       "      <td>Electronic accessories</td>\n",
       "      <td>68.84</td>\n",
       "      <td>6</td>\n",
       "      <td>20.6520</td>\n",
       "      <td>433.6920</td>\n",
       "      <td>2/25/2019</td>\n",
       "      <td>Ewallet</td>\n",
       "      <td>413.04</td>\n",
       "      <td>4.761905</td>\n",
       "      <td>20.6520</td>\n",
       "      <td>5.8</td>\n",
       "      <td>454.344</td>\n",
       "    </tr>\n",
       "    <tr>\n",
       "      <th>7</th>\n",
       "      <td>Giza</td>\n",
       "      <td>Naypyitaw</td>\n",
       "      <td>Member</td>\n",
       "      <td>Female</td>\n",
       "      <td>Home and lifestyle</td>\n",
       "      <td>73.56</td>\n",
       "      <td>10</td>\n",
       "      <td>36.7800</td>\n",
       "      <td>772.3800</td>\n",
       "      <td>2/24/2019</td>\n",
       "      <td>Ewallet</td>\n",
       "      <td>735.60</td>\n",
       "      <td>4.761905</td>\n",
       "      <td>36.7800</td>\n",
       "      <td>8.0</td>\n",
       "      <td>809.160</td>\n",
       "    </tr>\n",
       "    <tr>\n",
       "      <th>8</th>\n",
       "      <td>Alex</td>\n",
       "      <td>Yangon</td>\n",
       "      <td>Member</td>\n",
       "      <td>Female</td>\n",
       "      <td>Health and beauty</td>\n",
       "      <td>36.26</td>\n",
       "      <td>2</td>\n",
       "      <td>3.6260</td>\n",
       "      <td>76.1460</td>\n",
       "      <td>1/10/2019</td>\n",
       "      <td>Credit card</td>\n",
       "      <td>72.52</td>\n",
       "      <td>4.761905</td>\n",
       "      <td>3.6260</td>\n",
       "      <td>7.2</td>\n",
       "      <td>79.772</td>\n",
       "    </tr>\n",
       "    <tr>\n",
       "      <th>9</th>\n",
       "      <td>Cairo</td>\n",
       "      <td>Mandalay</td>\n",
       "      <td>Member</td>\n",
       "      <td>Female</td>\n",
       "      <td>Food and beverages</td>\n",
       "      <td>54.84</td>\n",
       "      <td>3</td>\n",
       "      <td>8.2260</td>\n",
       "      <td>172.7460</td>\n",
       "      <td>2/20/2019</td>\n",
       "      <td>Credit card</td>\n",
       "      <td>164.52</td>\n",
       "      <td>4.761905</td>\n",
       "      <td>8.2260</td>\n",
       "      <td>5.9</td>\n",
       "      <td>180.972</td>\n",
       "    </tr>\n",
       "    <tr>\n",
       "      <th>10</th>\n",
       "      <td>Cairo</td>\n",
       "      <td>Mandalay</td>\n",
       "      <td>Member</td>\n",
       "      <td>Female</td>\n",
       "      <td>Fashion accessories</td>\n",
       "      <td>14.48</td>\n",
       "      <td>4</td>\n",
       "      <td>2.8960</td>\n",
       "      <td>60.8160</td>\n",
       "      <td>2/6/2019</td>\n",
       "      <td>Ewallet</td>\n",
       "      <td>57.92</td>\n",
       "      <td>4.761905</td>\n",
       "      <td>2.8960</td>\n",
       "      <td>4.5</td>\n",
       "      <td>63.712</td>\n",
       "    </tr>\n",
       "    <tr>\n",
       "      <th>11</th>\n",
       "      <td>Cairo</td>\n",
       "      <td>Mandalay</td>\n",
       "      <td>Member</td>\n",
       "      <td>Female</td>\n",
       "      <td>Electronic accessories</td>\n",
       "      <td>25.51</td>\n",
       "      <td>4</td>\n",
       "      <td>5.1020</td>\n",
       "      <td>107.1420</td>\n",
       "      <td>3/9/2019</td>\n",
       "      <td>Cash</td>\n",
       "      <td>102.04</td>\n",
       "      <td>4.761905</td>\n",
       "      <td>5.1020</td>\n",
       "      <td>6.8</td>\n",
       "      <td>112.244</td>\n",
       "    </tr>\n",
       "    <tr>\n",
       "      <th>12</th>\n",
       "      <td>Alex</td>\n",
       "      <td>Yangon</td>\n",
       "      <td>Member</td>\n",
       "      <td>Female</td>\n",
       "      <td>Electronic accessories</td>\n",
       "      <td>46.95</td>\n",
       "      <td>5</td>\n",
       "      <td>11.7375</td>\n",
       "      <td>246.4875</td>\n",
       "      <td>2/12/2019</td>\n",
       "      <td>Ewallet</td>\n",
       "      <td>234.75</td>\n",
       "      <td>4.761905</td>\n",
       "      <td>11.7375</td>\n",
       "      <td>7.1</td>\n",
       "      <td>258.225</td>\n",
       "    </tr>\n",
       "    <tr>\n",
       "      <th>13</th>\n",
       "      <td>Alex</td>\n",
       "      <td>Yangon</td>\n",
       "      <td>Member</td>\n",
       "      <td>Female</td>\n",
       "      <td>Food and beverages</td>\n",
       "      <td>43.19</td>\n",
       "      <td>10</td>\n",
       "      <td>21.5950</td>\n",
       "      <td>453.4950</td>\n",
       "      <td>2/7/2019</td>\n",
       "      <td>Ewallet</td>\n",
       "      <td>431.90</td>\n",
       "      <td>4.761905</td>\n",
       "      <td>21.5950</td>\n",
       "      <td>8.2</td>\n",
       "      <td>475.090</td>\n",
       "    </tr>\n",
       "    <tr>\n",
       "      <th>14</th>\n",
       "      <td>Alex</td>\n",
       "      <td>Yangon</td>\n",
       "      <td>Member</td>\n",
       "      <td>Female</td>\n",
       "      <td>Health and beauty</td>\n",
       "      <td>71.38</td>\n",
       "      <td>10</td>\n",
       "      <td>35.6900</td>\n",
       "      <td>749.4900</td>\n",
       "      <td>3/29/2019</td>\n",
       "      <td>Cash</td>\n",
       "      <td>713.80</td>\n",
       "      <td>4.761905</td>\n",
       "      <td>35.6900</td>\n",
       "      <td>5.7</td>\n",
       "      <td>785.180</td>\n",
       "    </tr>\n",
       "    <tr>\n",
       "      <th>15</th>\n",
       "      <td>Cairo</td>\n",
       "      <td>Mandalay</td>\n",
       "      <td>Member</td>\n",
       "      <td>Female</td>\n",
       "      <td>Sports and travel</td>\n",
       "      <td>93.72</td>\n",
       "      <td>6</td>\n",
       "      <td>28.1160</td>\n",
       "      <td>590.4360</td>\n",
       "      <td>1/15/2019</td>\n",
       "      <td>Cash</td>\n",
       "      <td>562.32</td>\n",
       "      <td>4.761905</td>\n",
       "      <td>28.1160</td>\n",
       "      <td>4.5</td>\n",
       "      <td>618.552</td>\n",
       "    </tr>\n",
       "    <tr>\n",
       "      <th>16</th>\n",
       "      <td>Alex</td>\n",
       "      <td>Yangon</td>\n",
       "      <td>Member</td>\n",
       "      <td>Female</td>\n",
       "      <td>Health and beauty</td>\n",
       "      <td>68.93</td>\n",
       "      <td>7</td>\n",
       "      <td>24.1255</td>\n",
       "      <td>506.6355</td>\n",
       "      <td>3/11/2019</td>\n",
       "      <td>Credit card</td>\n",
       "      <td>482.51</td>\n",
       "      <td>4.761905</td>\n",
       "      <td>24.1255</td>\n",
       "      <td>4.6</td>\n",
       "      <td>530.761</td>\n",
       "    </tr>\n",
       "    <tr>\n",
       "      <th>17</th>\n",
       "      <td>Alex</td>\n",
       "      <td>Yangon</td>\n",
       "      <td>Member</td>\n",
       "      <td>Female</td>\n",
       "      <td>Sports and travel</td>\n",
       "      <td>72.61</td>\n",
       "      <td>6</td>\n",
       "      <td>21.7830</td>\n",
       "      <td>457.4430</td>\n",
       "      <td>1/1/2019</td>\n",
       "      <td>Credit card</td>\n",
       "      <td>435.66</td>\n",
       "      <td>4.761905</td>\n",
       "      <td>21.7830</td>\n",
       "      <td>6.9</td>\n",
       "      <td>479.226</td>\n",
       "    </tr>\n",
       "    <tr>\n",
       "      <th>18</th>\n",
       "      <td>Alex</td>\n",
       "      <td>Yangon</td>\n",
       "      <td>Member</td>\n",
       "      <td>Female</td>\n",
       "      <td>Food and beverages</td>\n",
       "      <td>54.67</td>\n",
       "      <td>3</td>\n",
       "      <td>8.2005</td>\n",
       "      <td>172.2105</td>\n",
       "      <td>1/21/2019</td>\n",
       "      <td>Credit card</td>\n",
       "      <td>164.01</td>\n",
       "      <td>4.761905</td>\n",
       "      <td>8.2005</td>\n",
       "      <td>8.6</td>\n",
       "      <td>180.411</td>\n",
       "    </tr>\n",
       "    <tr>\n",
       "      <th>19</th>\n",
       "      <td>Cairo</td>\n",
       "      <td>Mandalay</td>\n",
       "      <td>Member</td>\n",
       "      <td>Female</td>\n",
       "      <td>Home and lifestyle</td>\n",
       "      <td>40.30</td>\n",
       "      <td>2</td>\n",
       "      <td>4.0300</td>\n",
       "      <td>84.6300</td>\n",
       "      <td>3/11/2019</td>\n",
       "      <td>Ewallet</td>\n",
       "      <td>80.60</td>\n",
       "      <td>4.761905</td>\n",
       "      <td>4.0300</td>\n",
       "      <td>4.4</td>\n",
       "      <td>88.660</td>\n",
       "    </tr>\n",
       "  </tbody>\n",
       "</table>\n",
       "</div>"
      ],
      "text/plain": [
       "   Branch       City Customer type  Gender            Product line  \\\n",
       "0    Alex     Yangon        Member  Female       Health and beauty   \n",
       "1    Giza  Naypyitaw        Normal  Female  Electronic accessories   \n",
       "2    Alex     Yangon        Normal  Female      Home and lifestyle   \n",
       "3    Alex     Yangon        Member  Female       Health and beauty   \n",
       "4    Alex     Yangon        Member  Female       Sports and travel   \n",
       "5    Giza  Naypyitaw        Member  Female  Electronic accessories   \n",
       "6    Alex     Yangon        Member  Female  Electronic accessories   \n",
       "7    Giza  Naypyitaw        Member  Female      Home and lifestyle   \n",
       "8    Alex     Yangon        Member  Female       Health and beauty   \n",
       "9   Cairo   Mandalay        Member  Female      Food and beverages   \n",
       "10  Cairo   Mandalay        Member  Female     Fashion accessories   \n",
       "11  Cairo   Mandalay        Member  Female  Electronic accessories   \n",
       "12   Alex     Yangon        Member  Female  Electronic accessories   \n",
       "13   Alex     Yangon        Member  Female      Food and beverages   \n",
       "14   Alex     Yangon        Member  Female       Health and beauty   \n",
       "15  Cairo   Mandalay        Member  Female       Sports and travel   \n",
       "16   Alex     Yangon        Member  Female       Health and beauty   \n",
       "17   Alex     Yangon        Member  Female       Sports and travel   \n",
       "18   Alex     Yangon        Member  Female      Food and beverages   \n",
       "19  Cairo   Mandalay        Member  Female      Home and lifestyle   \n",
       "\n",
       "    Unit price  Quantity   Tax 5%     Sales       Date      Payment    cogs  \\\n",
       "0        74.69         7  26.1415  548.9715   1/5/2019      Ewallet  522.83   \n",
       "1        15.28         5   3.8200   80.2200   3/8/2019         Cash   76.40   \n",
       "2        46.33         7  16.2155  340.5255   3/3/2019  Credit card  324.31   \n",
       "3        58.22         8  23.2880  489.0480  1/27/2019      Ewallet  465.76   \n",
       "4        86.31         7  30.2085  634.3785   2/8/2019      Ewallet  604.17   \n",
       "5        85.39         7  29.8865  627.6165  3/25/2019      Ewallet  597.73   \n",
       "6        68.84         6  20.6520  433.6920  2/25/2019      Ewallet  413.04   \n",
       "7        73.56        10  36.7800  772.3800  2/24/2019      Ewallet  735.60   \n",
       "8        36.26         2   3.6260   76.1460  1/10/2019  Credit card   72.52   \n",
       "9        54.84         3   8.2260  172.7460  2/20/2019  Credit card  164.52   \n",
       "10       14.48         4   2.8960   60.8160   2/6/2019      Ewallet   57.92   \n",
       "11       25.51         4   5.1020  107.1420   3/9/2019         Cash  102.04   \n",
       "12       46.95         5  11.7375  246.4875  2/12/2019      Ewallet  234.75   \n",
       "13       43.19        10  21.5950  453.4950   2/7/2019      Ewallet  431.90   \n",
       "14       71.38        10  35.6900  749.4900  3/29/2019         Cash  713.80   \n",
       "15       93.72         6  28.1160  590.4360  1/15/2019         Cash  562.32   \n",
       "16       68.93         7  24.1255  506.6355  3/11/2019  Credit card  482.51   \n",
       "17       72.61         6  21.7830  457.4430   1/1/2019  Credit card  435.66   \n",
       "18       54.67         3   8.2005  172.2105  1/21/2019  Credit card  164.01   \n",
       "19       40.30         2   4.0300   84.6300  3/11/2019      Ewallet   80.60   \n",
       "\n",
       "    gross margin percentage  gross income  Rating  Total_sells_price  \n",
       "0                  4.761905       26.1415     9.1            575.113  \n",
       "1                  4.761905        3.8200     9.6             84.040  \n",
       "2                  4.761905       16.2155     7.4            356.741  \n",
       "3                  4.761905       23.2880     8.4            512.336  \n",
       "4                  4.761905       30.2085     5.3            664.587  \n",
       "5                  4.761905       29.8865     4.1            657.503  \n",
       "6                  4.761905       20.6520     5.8            454.344  \n",
       "7                  4.761905       36.7800     8.0            809.160  \n",
       "8                  4.761905        3.6260     7.2             79.772  \n",
       "9                  4.761905        8.2260     5.9            180.972  \n",
       "10                 4.761905        2.8960     4.5             63.712  \n",
       "11                 4.761905        5.1020     6.8            112.244  \n",
       "12                 4.761905       11.7375     7.1            258.225  \n",
       "13                 4.761905       21.5950     8.2            475.090  \n",
       "14                 4.761905       35.6900     5.7            785.180  \n",
       "15                 4.761905       28.1160     4.5            618.552  \n",
       "16                 4.761905       24.1255     4.6            530.761  \n",
       "17                 4.761905       21.7830     6.9            479.226  \n",
       "18                 4.761905        8.2005     8.6            180.411  \n",
       "19                 4.761905        4.0300     4.4             88.660  "
      ]
     },
     "execution_count": 1,
     "metadata": {},
     "output_type": "execute_result"
    }
   ],
   "source": [
    "import pandas as pd \n",
    "import numpy as np \n",
    "from matplotlib import pyplot as plt \n",
    "import seaborn as sns\n",
    "df=pd.read_excel(r\"D:\\DATA SCIENCE BY NIT\\super market data\\presentation.xlsx\") \n",
    "df.head(20) "
   ]
  },
  {
   "cell_type": "markdown",
   "metadata": {},
   "source": [
    "DATA UNDERSTANDING\n"
   ]
  },
  {
   "cell_type": "code",
   "execution_count": null,
   "metadata": {},
   "outputs": [],
   "source": [
    "df.info()"
   ]
  },
  {
   "cell_type": "markdown",
   "metadata": {},
   "source": [
    "DATA EXPLORATION\n"
   ]
  },
  {
   "cell_type": "code",
   "execution_count": null,
   "metadata": {},
   "outputs": [],
   "source": [
    " # returns basic statistics info on numeric columns :-\n",
    "df.describe().T"
   ]
  },
  {
   "cell_type": "code",
   "execution_count": null,
   "metadata": {},
   "outputs": [],
   "source": [
    "# reurns datatype of each column   \n",
    "df.dtypes"
   ]
  },
  {
   "cell_type": "code",
   "execution_count": null,
   "metadata": {},
   "outputs": [],
   "source": [
    "# Returns if there any null value or not :-\n",
    "df.isnull().any()\n",
    " # or \n",
    "df.isnull().sum()"
   ]
  },
  {
   "cell_type": "markdown",
   "metadata": {},
   "source": [
    "# DATA VISUALIZATION :-\n"
   ]
  },
  {
   "cell_type": "code",
   "execution_count": null,
   "metadata": {},
   "outputs": [],
   "source": [
    "# visualization of Unit price   column data feature \n",
    "\n",
    "feature_Unit_price =plt.hist(df[\"Unit price\"],bins=100)\n",
    "plt.title(\"distribution of QUnit price\")\n",
    "plt.xlabel(\"Unit price\")\n",
    "plt.ylabel(\"COUNT\")\n",
    "plt.show()\n",
    "\n",
    "\n",
    "\n",
    "\n",
    "\n",
    "# plt.title('Relationship Between Quantity and Unit Price')\n",
    "# plt.xlabel('Quantity')\n",
    "# plt.ylabel('Unit Price')\n",
    "# plt.xticks(Quantity)  # Set x-ticks to be the quantity values\n",
    "# plt.yticks(Unit price)  # Set y-ticks for better visibility\n",
    "# plt.grid()\n",
    "# plt.legend()\n",
    "# plt.show()"
   ]
  },
  {
   "cell_type": "code",
   "execution_count": null,
   "metadata": {},
   "outputs": [],
   "source": [
    "# visualization of Quantity   column data feature \n",
    "\n",
    "feature_Unit_price =plt.hist(df[\"Quantity\"],bins=100)\n",
    "plt.title(\"distribution of Quantity\")\n",
    "plt.xlabel(\"Quantity\")\n",
    "plt.ylabel(\"COUNT\")\n",
    "plt.show()"
   ]
  },
  {
   "cell_type": "markdown",
   "metadata": {},
   "source": [
    "# DATA CLEANING & PREPROCESSING :\n"
   ]
  },
  {
   "cell_type": "code",
   "execution_count": null,
   "metadata": {},
   "outputs": [],
   "source": [
    "df.head()"
   ]
  },
  {
   "cell_type": "code",
   "execution_count": null,
   "metadata": {},
   "outputs": [],
   "source": [
    "df[\"Branch\"].unique()                       # checking unique values in this column "
   ]
  },
  {
   "cell_type": "code",
   "execution_count": null,
   "metadata": {},
   "outputs": [],
   "source": [
    "df[\"Branch\"].isnull().sum()                 # checking is there any null value or not "
   ]
  },
  {
   "cell_type": "code",
   "execution_count": null,
   "metadata": {},
   "outputs": [],
   "source": [
    "df[\"City\"].unique()"
   ]
  },
  {
   "cell_type": "code",
   "execution_count": null,
   "metadata": {},
   "outputs": [],
   "source": [
    "df[\"City\"].isnull().sum()"
   ]
  },
  {
   "cell_type": "code",
   "execution_count": null,
   "metadata": {},
   "outputs": [],
   "source": [
    "df[\"Customer type\"].unique()"
   ]
  },
  {
   "cell_type": "code",
   "execution_count": null,
   "metadata": {},
   "outputs": [],
   "source": [
    "df[\"Customer type\"].isnull().sum()"
   ]
  },
  {
   "cell_type": "code",
   "execution_count": null,
   "metadata": {},
   "outputs": [],
   "source": [
    "df[\"Date\"].unique()"
   ]
  },
  {
   "cell_type": "code",
   "execution_count": null,
   "metadata": {},
   "outputs": [],
   "source": [
    "df[\"Date\"].isnull().sum()"
   ]
  },
  {
   "cell_type": "code",
   "execution_count": null,
   "metadata": {},
   "outputs": [],
   "source": [
    "df[\"Gender\"].unique()"
   ]
  },
  {
   "cell_type": "code",
   "execution_count": null,
   "metadata": {},
   "outputs": [],
   "source": [
    "df[\"Payment\"].unique()     # used unique() function for discrete categorical "
   ]
  },
  {
   "cell_type": "code",
   "execution_count": null,
   "metadata": {},
   "outputs": [],
   "source": [
    "df[\"Product line\"].unique()"
   ]
  },
  {
   "cell_type": "code",
   "execution_count": null,
   "metadata": {},
   "outputs": [],
   "source": [
    "df[\"Quantity\"].value_counts()    # for count variable used value_counts()"
   ]
  },
  {
   "cell_type": "code",
   "execution_count": null,
   "metadata": {},
   "outputs": [],
   "source": [
    "df[\"Rating\"].describe()"
   ]
  },
  {
   "cell_type": "code",
   "execution_count": null,
   "metadata": {},
   "outputs": [],
   "source": [
    "df[\"Rating\"].value_counts()"
   ]
  },
  {
   "cell_type": "code",
   "execution_count": null,
   "metadata": {},
   "outputs": [],
   "source": [
    "df[\"Sales\"].describe()\n"
   ]
  },
  {
   "cell_type": "code",
   "execution_count": null,
   "metadata": {},
   "outputs": [],
   "source": [
    "df[\"Sales\"].value_counts()"
   ]
  },
  {
   "cell_type": "code",
   "execution_count": null,
   "metadata": {},
   "outputs": [],
   "source": [
    "df[\"Tax 5%\"].describe()"
   ]
  },
  {
   "cell_type": "code",
   "execution_count": null,
   "metadata": {},
   "outputs": [],
   "source": [
    "df[\"Tax 5%\"].value_counts()"
   ]
  },
  {
   "cell_type": "code",
   "execution_count": null,
   "metadata": {},
   "outputs": [],
   "source": [
    "df[\"Time\"].unique()"
   ]
  },
  {
   "cell_type": "code",
   "execution_count": null,
   "metadata": {},
   "outputs": [],
   "source": [
    "df[\"Unit price\"].describe()"
   ]
  },
  {
   "cell_type": "code",
   "execution_count": null,
   "metadata": {},
   "outputs": [],
   "source": [
    "df[\"Unit price\"].value_counts()"
   ]
  },
  {
   "cell_type": "code",
   "execution_count": null,
   "metadata": {},
   "outputs": [],
   "source": [
    "df[\"cogs\"].describe()\n",
    "\n"
   ]
  },
  {
   "cell_type": "code",
   "execution_count": null,
   "metadata": {},
   "outputs": [],
   "source": [
    "df[\"cogs\"].value_counts()"
   ]
  },
  {
   "cell_type": "code",
   "execution_count": null,
   "metadata": {},
   "outputs": [],
   "source": [
    "df[\"gross income\"].describe()\n"
   ]
  },
  {
   "cell_type": "code",
   "execution_count": null,
   "metadata": {},
   "outputs": [],
   "source": [
    "df[\"gross income\"].value_counts()"
   ]
  },
  {
   "cell_type": "code",
   "execution_count": null,
   "metadata": {},
   "outputs": [],
   "source": [
    "df[\"gross margin percentage\"].describe()"
   ]
  },
  {
   "cell_type": "code",
   "execution_count": null,
   "metadata": {},
   "outputs": [],
   "source": [
    "df[\"gross margin percentage\"].value_counts()"
   ]
  },
  {
   "cell_type": "code",
   "execution_count": null,
   "metadata": {},
   "outputs": [],
   "source": [
    "df.head(5)"
   ]
  },
  {
   "cell_type": "markdown",
   "metadata": {},
   "source": [
    "# Feature Engineering :\n"
   ]
  },
  {
   "cell_type": "code",
   "execution_count": null,
   "metadata": {},
   "outputs": [],
   "source": [
    "df=df.drop(columns=[\"Invoice ID\",\"Time\"])\n",
    "df.head(5)"
   ]
  },
  {
   "cell_type": "code",
   "execution_count": null,
   "metadata": {},
   "outputs": [],
   "source": [
    "df[\"Total_sells_price\"]=df[\"Unit price\"]*df[\"Quantity\"]+df[\"Tax 5%\"]+df[\"gross income\"]\n"
   ]
  },
  {
   "cell_type": "code",
   "execution_count": null,
   "metadata": {},
   "outputs": [],
   "source": [
    "continous=[\"Unit price\",\"Tax 5%\",\"Sales\",\"cogs\",\"gross margin percentage\",\"gross income\",\"Rating\",\"Total_sells_price\"] # for continous variable apply describe() function .\n",
    "Discrete_categorical = [\"Branch\",\"City\",\"Customer type\",\"Gender\",\"Product line\",\"Date\",\"Payment\"]                      # for categorical variable apply unique() function . \n",
    "Discrete_count=[\"Quantity\"]                                                                                            # for count variable apply value_counts() function ."
   ]
  },
  {
   "cell_type": "code",
   "execution_count": null,
   "metadata": {},
   "outputs": [],
   "source": [
    "\n",
    "\n",
    "# Generating sample data for demonstration\n",
    "np.random.seed(0)\n",
    "data = {\n",
    "    \"Unit price\": np.random.uniform(5, 15, 100),\n",
    "    \"Tax 5%\": np.random.uniform(0.5, 2, 100),\n",
    "    \"Sales\": np.random.uniform(20, 100, 100),\n",
    "    \"cogs\": np.random.uniform(5, 50, 100),\n",
    "    \"gross margin percentage\": np.random.uniform(0, 20, 100),\n",
    "    \"gross income\": np.random.uniform(10, 60, 100),\n",
    "    \"Rating\": np.random.uniform(1, 5, 100),\n",
    "    \"Total_sells_pric\": np.random.uniform(100, 500, 100)\n",
    "}\n",
    "df = pd.DataFrame(data)\n",
    "\n",
    "# List of continuous columns\n",
    "columns = [\"Unit price\", \"Tax 5%\", \"Sales\", \"cogs\", \"gross margin percentage\", \n",
    "           \"gross income\", \"Rating\", \"Total_sells_pric\"]\n",
    "\n",
    "# Set the plotting style\n",
    "sns.set(style=\"whitegrid\")\n",
    "\n",
    "# --- 1. Histograms ---\n",
    "plt.figure(figsize=(14, 10))\n",
    "\n",
    "for i, column in enumerate(columns, 1):\n",
    "    plt.subplot(2, 4, i)  # 2 rows, 4 columns\n",
    "    sns.histplot(df[column], kde=True, color='skyblue')  # KDE for smooth curve\n",
    "    plt.title(f'Histogram of {column}')\n",
    "\n",
    "plt.tight_layout()\n",
    "plt.show()\n",
    "\n",
    "# --- 2. Box Plots ---\n",
    "plt.figure(figsize=(14, 10))\n",
    "\n",
    "for i, column in enumerate(columns, 1):\n",
    "    plt.subplot(2, 4, i)\n",
    "    sns.boxplot(x=df[column], color='lightcoral')\n",
    "    plt.title(f'Box Plot of {column}')\n",
    "\n",
    "plt.tight_layout()\n",
    "plt.show()\n",
    "\n",
    "# --- 3. Pair Plot ---\n",
    "sns.pairplot(df[columns])\n",
    "plt.suptitle('Pairplot of Continuous Variables', y=1.02)\n",
    "plt.show()\n",
    "\n",
    "# --- 4. Correlation Heatmap ---\n",
    "correlation_matrix = df[columns].corr()\n",
    "\n",
    "plt.figure(figsize=(10, 8))\n",
    "sns.heatmap(correlation_matrix, annot=True, cmap='coolwarm', fmt='.2f', linewidths=0.5)\n",
    "plt.title('Correlation Heatmap')\n",
    "plt.show()\n",
    "\n",
    "# --- 5. Scatter Plot (Example: Unit Price vs Sales) ---\n",
    "plt.figure(figsize=(10, 6))\n",
    "sns.scatterplot(x=df['Unit price'], y=df['Sales'], color='purple')\n",
    "plt.title('Unit Price vs Sales')\n",
    "plt.xlabel('Unit Price')\n",
    "plt.ylabel('Sales')\n",
    "plt.show()\n",
    "\n",
    "# --- 6. Violin Plots ---\n",
    "plt.figure(figsize=(14, 10))\n",
    "\n",
    "for i, column in enumerate(columns, 1):\n",
    "    plt.subplot(2, 4, i)\n",
    "    sns.violinplot(x=df[column], color='lightgreen')\n",
    "    plt.title(f'Violin Plot of {column}')\n",
    "\n",
    "plt.tight_layout()\n",
    "plt.show()\n"
   ]
  },
  {
   "cell_type": "markdown",
   "metadata": {},
   "source": [
    "# Exploratory Data Analysis (EDA):\n"
   ]
  },
  {
   "cell_type": "code",
   "execution_count": null,
   "metadata": {},
   "outputs": [],
   "source": [
    "df[Discrete_count].describe()"
   ]
  },
  {
   "cell_type": "code",
   "execution_count": null,
   "metadata": {},
   "outputs": [],
   "source": [
    "df[continous].describe()   # for continous variable used describe() "
   ]
  },
  {
   "cell_type": "code",
   "execution_count": null,
   "metadata": {},
   "outputs": [],
   "source": [
    "df[continous].skew()"
   ]
  },
  {
   "cell_type": "code",
   "execution_count": null,
   "metadata": {},
   "outputs": [],
   "source": [
    "df[Discrete_categorical].describe()"
   ]
  },
  {
   "cell_type": "code",
   "execution_count": null,
   "metadata": {},
   "outputs": [],
   "source": [
    "df.head()"
   ]
  },
  {
   "cell_type": "markdown",
   "metadata": {},
   "source": [
    "- comparing all the categories with test results to understand the overall data .\n"
   ]
  },
  {
   "cell_type": "code",
   "execution_count": null,
   "metadata": {},
   "outputs": [],
   "source": [
    "\n",
    "\n",
    "print(\"impact of Branches on Total_sells_price \")\n",
    "(pd.crosstab(df[\"Branch\"],df[\"Total_sells_price\"]))\n"
   ]
  },
  {
   "cell_type": "code",
   "execution_count": null,
   "metadata": {},
   "outputs": [],
   "source": [
    "print(\"impact of  City on Total_sells_price \")\n",
    "pd.crosstab(df[\"City\"],df[\"Total_sells_price\"])"
   ]
  },
  {
   "cell_type": "code",
   "execution_count": null,
   "metadata": {},
   "outputs": [],
   "source": [
    "print(\"impact of  Customer type\t on Total_sells_price \")\n",
    "pd.crosstab(df[\"Customer type\"],df[\"Total_sells_price\"])"
   ]
  },
  {
   "cell_type": "code",
   "execution_count": null,
   "metadata": {},
   "outputs": [],
   "source": [
    "print(\"impact of Gender on Total_sells_price \")\n",
    "pd.crosstab(df[\"Gender\"],df[\"Total_sells_price\"])"
   ]
  },
  {
   "cell_type": "code",
   "execution_count": null,
   "metadata": {},
   "outputs": [],
   "source": [
    "print(\"impact of Product line on Total_sells_price\")\n",
    "pd.crosstab(df[\"Product line\"],df[\"Total_sells_price\"])\n"
   ]
  },
  {
   "cell_type": "code",
   "execution_count": null,
   "metadata": {},
   "outputs": [],
   "source": [
    "print(\"impact of Unit price on Total_sells_price\")\n",
    "pd.crosstab(df[\"Unit price\"],df[\"Total_sells_price\"])"
   ]
  },
  {
   "cell_type": "code",
   "execution_count": null,
   "metadata": {},
   "outputs": [],
   "source": [
    "print(\"impact of Quantity on Total_sells_price\")\n",
    "pd.crosstab(df[\"Quantity\"],df[\"Total_sells_price\"])"
   ]
  },
  {
   "cell_type": "code",
   "execution_count": null,
   "metadata": {},
   "outputs": [],
   "source": [
    "print(\"impact of Tax 5% on Total_sells_price\")\n",
    "pd.crosstab(df[\"Tax 5%\"],df[\"Total_sells_price\"])"
   ]
  },
  {
   "cell_type": "code",
   "execution_count": null,
   "metadata": {},
   "outputs": [],
   "source": [
    "print(\"impact of Sales on Total sales price \")\n",
    "pd.crosstab(df[\"Sales\"],df[\"Total_sells_price\"])"
   ]
  }
 ],
 "metadata": {
  "kernelspec": {
   "display_name": "Python 3",
   "language": "python",
   "name": "python3"
  },
  "language_info": {
   "codemirror_mode": {
    "name": "ipython",
    "version": 3
   },
   "file_extension": ".py",
   "mimetype": "text/x-python",
   "name": "python",
   "nbconvert_exporter": "python",
   "pygments_lexer": "ipython3",
   "version": "3.12.4"
  }
 },
 "nbformat": 4,
 "nbformat_minor": 2
}
